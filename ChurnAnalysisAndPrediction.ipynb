{
 "cells": [
  {
   "cell_type": "markdown",
   "metadata": {},
   "source": [
    "# <center>Churn Prediction<center>\n",
    "                                                                                                          By - Neha Yadav\n",
    "                                                                                                               Mridu Malhotra\n",
    "                                                                                                               Mohit Kumar\n",
    "                                                                                                        Date - 31 Jan 2019\n",
    "____"
   ]
  },
  {
   "cell_type": "markdown",
   "metadata": {},
   "source": [
    "## Index\n",
    "\n",
    "-  **1. Introduction**\n",
    "-  **2.  Data Description**\n",
    "-  **3.  Environment Preperation**\n",
    "-  **4.  Data Validation**\n",
    "-  **5.  Exploratory Data Analysis**\n",
    "-  **6.  Data Preprocessing**\n",
    "-  **7.  Machine Learning Models**\n",
    "-  **8.  Conclusion**\n",
    "____"
   ]
  },
  {
   "cell_type": "markdown",
   "metadata": {},
   "source": [
    "### 1. Introduction -\n",
    "In the world of ruthless competition to increase the profit margins or even take a hit ob margins at the cost of higher market share, Retaining current customers is a major area of focus for telecom companies. \n",
    "I try to build a model which would help in understanding possible reasons for customer attrition and in the end try to predict customers most likely to churn. \n",
    "____"
   ]
  },
  {
   "cell_type": "markdown",
   "metadata": {},
   "source": [
    "### 2. Data Description\n",
    "\n",
    "Dataset - Telecom Churn Customers <br>\n",
    "Source  - https://www.kaggle.com/blastchar/telco-customer-churn <br>\n",
    "Description from Kaggle - \n",
    "    -  Each row represents a customer, each column contains customer’s attributes described on the column Metadata. \n",
    "    -  The raw data contains 7043 rows (customers) and 21 columns (features).\n",
    "    -  The “Churn” column is our target. \n",
    "____"
   ]
  },
  {
   "cell_type": "markdown",
   "metadata": {},
   "source": [
    "### 3. Environment Preperation - Loading Libraries and Dataset"
   ]
  },
  {
   "cell_type": "code",
   "execution_count": 1,
   "metadata": {},
   "outputs": [
    {
     "name": "stderr",
     "output_type": "stream",
     "text": [
      "C:\\Users\\AB94613\\AppData\\Local\\Continuum\\anaconda3\\lib\\site-packages\\sklearn\\ensemble\\weight_boosting.py:29: DeprecationWarning: numpy.core.umath_tests is an internal NumPy module and should not be imported. It will be removed in a future NumPy release.\n",
      "  from numpy.core.umath_tests import inner1d\n"
     ]
    }
   ],
   "source": [
    "# Data Analysis and wrangling\n",
    "import numpy as np\n",
    "import pandas as pd\n",
    "\n",
    "# Data Visualization\n",
    "import matplotlib.pyplot as plt\n",
    "import seaborn as sns\n",
    "%matplotlib inline\n",
    "\n",
    "# PCA libraries\n",
    "from scipy.linalg import eigh\n",
    "from sklearn import decomposition\n",
    "\n",
    "# Preprocessing and Standardization\n",
    "from sklearn import preprocessing\n",
    "from sklearn.preprocessing import StandardScaler\n",
    "\n",
    "# Train Test Split\n",
    "from sklearn import model_selection\n",
    "\n",
    "# Performance Measure\n",
    "from sklearn import metrics\n",
    "from sklearn.metrics import accuracy_score\n",
    "from sklearn.metrics import precision_score\n",
    "from sklearn.metrics import recall_score\n",
    "from sklearn.metrics import confusion_matrix\n",
    "from sklearn.metrics import f1_score\n",
    "\n",
    "# Machine Learinig Libraries\n",
    "from sklearn.neighbors import KNeighborsClassifier\n",
    "from sklearn.naive_bayes import GaussianNB\n",
    "from sklearn import svm\n",
    "from sklearn import tree\n",
    "from sklearn import ensemble\n",
    "from sklearn import linear_model\n",
    "from sklearn.ensemble import VotingClassifier"
   ]
  },
  {
   "cell_type": "code",
   "execution_count": 2,
   "metadata": {},
   "outputs": [],
   "source": [
    "# Load Dataset \n",
    "rawdata = pd.read_csv('ChurnDataset.csv')"
   ]
  },
  {
   "cell_type": "code",
   "execution_count": 3,
   "metadata": {
    "scrolled": false
   },
   "outputs": [
    {
     "data": {
      "text/html": [
       "<div>\n",
       "<style scoped>\n",
       "    .dataframe tbody tr th:only-of-type {\n",
       "        vertical-align: middle;\n",
       "    }\n",
       "\n",
       "    .dataframe tbody tr th {\n",
       "        vertical-align: top;\n",
       "    }\n",
       "\n",
       "    .dataframe thead th {\n",
       "        text-align: right;\n",
       "    }\n",
       "</style>\n",
       "<table border=\"1\" class=\"dataframe\">\n",
       "  <thead>\n",
       "    <tr style=\"text-align: right;\">\n",
       "      <th></th>\n",
       "      <th>customerID</th>\n",
       "      <th>gender</th>\n",
       "      <th>SeniorCitizen</th>\n",
       "      <th>Partner</th>\n",
       "      <th>Dependents</th>\n",
       "      <th>tenure</th>\n",
       "      <th>PhoneService</th>\n",
       "      <th>MultipleLines</th>\n",
       "      <th>InternetService</th>\n",
       "      <th>OnlineSecurity</th>\n",
       "      <th>...</th>\n",
       "      <th>DeviceProtection</th>\n",
       "      <th>TechSupport</th>\n",
       "      <th>StreamingTV</th>\n",
       "      <th>StreamingMovies</th>\n",
       "      <th>Contract</th>\n",
       "      <th>PaperlessBilling</th>\n",
       "      <th>PaymentMethod</th>\n",
       "      <th>MonthlyCharges</th>\n",
       "      <th>TotalCharges</th>\n",
       "      <th>Churn</th>\n",
       "    </tr>\n",
       "  </thead>\n",
       "  <tbody>\n",
       "    <tr>\n",
       "      <th>0</th>\n",
       "      <td>7590-VHVEG</td>\n",
       "      <td>Female</td>\n",
       "      <td>0</td>\n",
       "      <td>Yes</td>\n",
       "      <td>No</td>\n",
       "      <td>1</td>\n",
       "      <td>No</td>\n",
       "      <td>No phone service</td>\n",
       "      <td>DSL</td>\n",
       "      <td>No</td>\n",
       "      <td>...</td>\n",
       "      <td>No</td>\n",
       "      <td>No</td>\n",
       "      <td>No</td>\n",
       "      <td>No</td>\n",
       "      <td>Month-to-month</td>\n",
       "      <td>Yes</td>\n",
       "      <td>Electronic check</td>\n",
       "      <td>29.85</td>\n",
       "      <td>29.85</td>\n",
       "      <td>No</td>\n",
       "    </tr>\n",
       "    <tr>\n",
       "      <th>1</th>\n",
       "      <td>5575-GNVDE</td>\n",
       "      <td>Male</td>\n",
       "      <td>0</td>\n",
       "      <td>No</td>\n",
       "      <td>No</td>\n",
       "      <td>34</td>\n",
       "      <td>Yes</td>\n",
       "      <td>No</td>\n",
       "      <td>DSL</td>\n",
       "      <td>Yes</td>\n",
       "      <td>...</td>\n",
       "      <td>Yes</td>\n",
       "      <td>No</td>\n",
       "      <td>No</td>\n",
       "      <td>No</td>\n",
       "      <td>One year</td>\n",
       "      <td>No</td>\n",
       "      <td>Mailed check</td>\n",
       "      <td>56.95</td>\n",
       "      <td>1889.5</td>\n",
       "      <td>No</td>\n",
       "    </tr>\n",
       "    <tr>\n",
       "      <th>2</th>\n",
       "      <td>3668-QPYBK</td>\n",
       "      <td>Male</td>\n",
       "      <td>0</td>\n",
       "      <td>No</td>\n",
       "      <td>No</td>\n",
       "      <td>2</td>\n",
       "      <td>Yes</td>\n",
       "      <td>No</td>\n",
       "      <td>DSL</td>\n",
       "      <td>Yes</td>\n",
       "      <td>...</td>\n",
       "      <td>No</td>\n",
       "      <td>No</td>\n",
       "      <td>No</td>\n",
       "      <td>No</td>\n",
       "      <td>Month-to-month</td>\n",
       "      <td>Yes</td>\n",
       "      <td>Mailed check</td>\n",
       "      <td>53.85</td>\n",
       "      <td>108.15</td>\n",
       "      <td>Yes</td>\n",
       "    </tr>\n",
       "    <tr>\n",
       "      <th>3</th>\n",
       "      <td>7795-CFOCW</td>\n",
       "      <td>Male</td>\n",
       "      <td>0</td>\n",
       "      <td>No</td>\n",
       "      <td>No</td>\n",
       "      <td>45</td>\n",
       "      <td>No</td>\n",
       "      <td>No phone service</td>\n",
       "      <td>DSL</td>\n",
       "      <td>Yes</td>\n",
       "      <td>...</td>\n",
       "      <td>Yes</td>\n",
       "      <td>Yes</td>\n",
       "      <td>No</td>\n",
       "      <td>No</td>\n",
       "      <td>One year</td>\n",
       "      <td>No</td>\n",
       "      <td>Bank transfer (automatic)</td>\n",
       "      <td>42.30</td>\n",
       "      <td>1840.75</td>\n",
       "      <td>No</td>\n",
       "    </tr>\n",
       "    <tr>\n",
       "      <th>4</th>\n",
       "      <td>9237-HQITU</td>\n",
       "      <td>Female</td>\n",
       "      <td>0</td>\n",
       "      <td>No</td>\n",
       "      <td>No</td>\n",
       "      <td>2</td>\n",
       "      <td>Yes</td>\n",
       "      <td>No</td>\n",
       "      <td>Fiber optic</td>\n",
       "      <td>No</td>\n",
       "      <td>...</td>\n",
       "      <td>No</td>\n",
       "      <td>No</td>\n",
       "      <td>No</td>\n",
       "      <td>No</td>\n",
       "      <td>Month-to-month</td>\n",
       "      <td>Yes</td>\n",
       "      <td>Electronic check</td>\n",
       "      <td>70.70</td>\n",
       "      <td>151.65</td>\n",
       "      <td>Yes</td>\n",
       "    </tr>\n",
       "  </tbody>\n",
       "</table>\n",
       "<p>5 rows × 21 columns</p>\n",
       "</div>"
      ],
      "text/plain": [
       "   customerID  gender  SeniorCitizen Partner Dependents  tenure PhoneService  \\\n",
       "0  7590-VHVEG  Female              0     Yes         No       1           No   \n",
       "1  5575-GNVDE    Male              0      No         No      34          Yes   \n",
       "2  3668-QPYBK    Male              0      No         No       2          Yes   \n",
       "3  7795-CFOCW    Male              0      No         No      45           No   \n",
       "4  9237-HQITU  Female              0      No         No       2          Yes   \n",
       "\n",
       "      MultipleLines InternetService OnlineSecurity  ...  DeviceProtection  \\\n",
       "0  No phone service             DSL             No  ...                No   \n",
       "1                No             DSL            Yes  ...               Yes   \n",
       "2                No             DSL            Yes  ...                No   \n",
       "3  No phone service             DSL            Yes  ...               Yes   \n",
       "4                No     Fiber optic             No  ...                No   \n",
       "\n",
       "  TechSupport StreamingTV StreamingMovies        Contract PaperlessBilling  \\\n",
       "0          No          No              No  Month-to-month              Yes   \n",
       "1          No          No              No        One year               No   \n",
       "2          No          No              No  Month-to-month              Yes   \n",
       "3         Yes          No              No        One year               No   \n",
       "4          No          No              No  Month-to-month              Yes   \n",
       "\n",
       "               PaymentMethod MonthlyCharges  TotalCharges Churn  \n",
       "0           Electronic check          29.85         29.85    No  \n",
       "1               Mailed check          56.95        1889.5    No  \n",
       "2               Mailed check          53.85        108.15   Yes  \n",
       "3  Bank transfer (automatic)          42.30       1840.75    No  \n",
       "4           Electronic check          70.70        151.65   Yes  \n",
       "\n",
       "[5 rows x 21 columns]"
      ]
     },
     "execution_count": 3,
     "metadata": {},
     "output_type": "execute_result"
    }
   ],
   "source": [
    "# Dataset SneakPeak - First 5 Rows and Columns\n",
    "rawdata.head(5)"
   ]
  },
  {
   "cell_type": "code",
   "execution_count": 4,
   "metadata": {
    "scrolled": true
   },
   "outputs": [
    {
     "data": {
      "text/plain": [
       "(7043, 21)"
      ]
     },
     "execution_count": 4,
     "metadata": {},
     "output_type": "execute_result"
    }
   ],
   "source": [
    "# Dataset Shape \n",
    "rawdata.shape"
   ]
  },
  {
   "cell_type": "code",
   "execution_count": 5,
   "metadata": {
    "scrolled": true
   },
   "outputs": [
    {
     "name": "stdout",
     "output_type": "stream",
     "text": [
      "<class 'pandas.core.frame.DataFrame'>\n",
      "RangeIndex: 7043 entries, 0 to 7042\n",
      "Data columns (total 21 columns):\n",
      "customerID          7043 non-null object\n",
      "gender              7043 non-null object\n",
      "SeniorCitizen       7043 non-null int64\n",
      "Partner             7043 non-null object\n",
      "Dependents          7043 non-null object\n",
      "tenure              7043 non-null int64\n",
      "PhoneService        7043 non-null object\n",
      "MultipleLines       7043 non-null object\n",
      "InternetService     7043 non-null object\n",
      "OnlineSecurity      7043 non-null object\n",
      "OnlineBackup        7043 non-null object\n",
      "DeviceProtection    7043 non-null object\n",
      "TechSupport         7043 non-null object\n",
      "StreamingTV         7043 non-null object\n",
      "StreamingMovies     7043 non-null object\n",
      "Contract            7043 non-null object\n",
      "PaperlessBilling    7043 non-null object\n",
      "PaymentMethod       7043 non-null object\n",
      "MonthlyCharges      7043 non-null float64\n",
      "TotalCharges        7043 non-null object\n",
      "Churn               7043 non-null object\n",
      "dtypes: float64(1), int64(2), object(18)\n",
      "memory usage: 1.1+ MB\n"
     ]
    }
   ],
   "source": [
    "# Broad Level Info about various columns\n",
    "rawdata.info()"
   ]
  },
  {
   "cell_type": "markdown",
   "metadata": {},
   "source": [
    "#### Observation -\n",
    "* 20 Input Features and 1 Output Feature (churn). In total 21 features (columns) and 7043 customers (rows).\n",
    "* Among 17 Categorical Features, Senior Citizen is of integer Datatype. \n",
    "* Among 3 numerical features, TotalCharges is of Object Datatype. "
   ]
  },
  {
   "cell_type": "markdown",
   "metadata": {},
   "source": [
    "#### Unique Values and their counts"
   ]
  },
  {
   "cell_type": "code",
   "execution_count": 6,
   "metadata": {
    "scrolled": false
   },
   "outputs": [
    {
     "name": "stdout",
     "output_type": "stream",
     "text": [
      "----------------------------------------------------------------------------------------------------\n",
      "Columns with 10 or less distinct values\n",
      "----------------------------------------------------------------------------------------------------\n",
      "gender\t['Female' 'Male']\t2\n",
      "SeniorCitizen\t[0 1]\t2\n",
      "Partner\t['Yes' 'No']\t2\n",
      "Dependents\t['No' 'Yes']\t2\n",
      "PhoneService\t['No' 'Yes']\t2\n",
      "MultipleLines\t['No phone service' 'No' 'Yes']\t3\n",
      "InternetService\t['DSL' 'Fiber optic' 'No']\t3\n",
      "OnlineSecurity\t['No' 'Yes' 'No internet service']\t3\n",
      "OnlineBackup\t['Yes' 'No' 'No internet service']\t3\n",
      "DeviceProtection\t['No' 'Yes' 'No internet service']\t3\n",
      "TechSupport\t['No' 'Yes' 'No internet service']\t3\n",
      "StreamingTV\t['No' 'Yes' 'No internet service']\t3\n",
      "StreamingMovies\t['No' 'Yes' 'No internet service']\t3\n",
      "Contract\t['Month-to-month' 'One year' 'Two year']\t3\n",
      "PaperlessBilling\t['Yes' 'No']\t2\n",
      "PaymentMethod\t['Electronic check' 'Mailed check' 'Bank transfer (automatic)'\n",
      " 'Credit card (automatic)']\t4\n",
      "Churn\t['No' 'Yes']\t2\n",
      "----------------------------------------------------------------------------------------------------\n",
      "Columns with greater than 10 distinct values\n",
      "----------------------------------------------------------------------------------------------------\n",
      "customerID\t7043\n",
      "tenure\t73\n",
      "MonthlyCharges\t1585\n",
      "TotalCharges\t6531\n"
     ]
    }
   ],
   "source": [
    "# Data types and unique values and their count in each column\n",
    "columns = rawdata.columns.values.tolist()\n",
    "print('-'*100)\n",
    "print('Columns with 10 or less distinct values')\n",
    "print('-'*100)\n",
    "for col in columns:\n",
    "    if rawdata[col].nunique() <= 10:\n",
    "        print( col, end = '\\t')\n",
    "        print(rawdata[col].unique(), end = '\\t')\n",
    "        print(rawdata[col].nunique(), end = '\\n')\n",
    "print('-'*100)\n",
    "print('Columns with greater than 10 distinct values')\n",
    "print('-'*100)        \n",
    "for col in columns:\n",
    "    if rawdata[col].nunique() > 10:\n",
    "        print( col, end = '\\t')\n",
    "        print(rawdata[col].nunique(), end = '\\n')"
   ]
  },
  {
   "cell_type": "markdown",
   "metadata": {},
   "source": [
    "### 4. Data Validation"
   ]
  },
  {
   "cell_type": "markdown",
   "metadata": {},
   "source": [
    "#### Null/Missing Values"
   ]
  },
  {
   "cell_type": "code",
   "execution_count": 7,
   "metadata": {},
   "outputs": [
    {
     "name": "stdout",
     "output_type": "stream",
     "text": [
      "customerID\t : 0, 0\n",
      "gender\t : 0, 0\n",
      "SeniorCitizen\t : 0, 0\n",
      "Partner\t : 0, 0\n",
      "Dependents\t : 0, 0\n",
      "tenure\t : 0, 0\n",
      "PhoneService\t : 0, 0\n",
      "MultipleLines\t : 0, 0\n",
      "InternetService\t : 0, 0\n",
      "OnlineSecurity\t : 0, 0\n",
      "OnlineBackup\t : 0, 0\n",
      "DeviceProtection\t : 0, 0\n",
      "TechSupport\t : 0, 0\n",
      "StreamingTV\t : 0, 0\n",
      "StreamingMovies\t : 0, 0\n",
      "Contract\t : 0, 0\n",
      "PaperlessBilling\t : 0, 0\n",
      "PaymentMethod\t : 0, 0\n",
      "MonthlyCharges\t : 0, 0\n",
      "TotalCharges\t : 0, 0\n",
      "Churn\t : 0, 0\n"
     ]
    }
   ],
   "source": [
    "# Checking for null values\n",
    "for col in columns:\n",
    "    print(col, end='\\t : ')\n",
    "    print(rawdata[col].isnull().sum() , end = ', ')\n",
    "    print(rawdata[col].isna().sum())"
   ]
  },
  {
   "cell_type": "markdown",
   "metadata": {},
   "source": [
    "#### Check for Empty Cells"
   ]
  },
  {
   "cell_type": "code",
   "execution_count": 8,
   "metadata": {
    "scrolled": true
   },
   "outputs": [
    {
     "data": {
      "text/plain": [
       "customerID           0\n",
       "gender               0\n",
       "SeniorCitizen        0\n",
       "Partner              0\n",
       "Dependents           0\n",
       "tenure               0\n",
       "PhoneService         0\n",
       "MultipleLines        0\n",
       "InternetService      0\n",
       "OnlineSecurity       0\n",
       "OnlineBackup         0\n",
       "DeviceProtection     0\n",
       "TechSupport          0\n",
       "StreamingTV          0\n",
       "StreamingMovies      0\n",
       "Contract             0\n",
       "PaperlessBilling     0\n",
       "PaymentMethod        0\n",
       "MonthlyCharges       0\n",
       "TotalCharges        11\n",
       "Churn                0\n",
       "dtype: int64"
      ]
     },
     "execution_count": 8,
     "metadata": {},
     "output_type": "execute_result"
    }
   ],
   "source": [
    "# checking for empty cells\n",
    "empty_val_count = (rawdata == ' ').sum()\n",
    "empty_val_count"
   ]
  },
  {
   "cell_type": "markdown",
   "metadata": {},
   "source": [
    "#### Observation -\n",
    "    * 11 empty values in Total Charges. Since these are very less, lets delete them. "
   ]
  },
  {
   "cell_type": "code",
   "execution_count": 9,
   "metadata": {},
   "outputs": [],
   "source": [
    "# Removing the rows with empty values\n",
    "data_without_empty = rawdata[rawdata['TotalCharges'] != ' ']\n",
    "data_without_empty = data_without_empty.reset_index()[data_without_empty.columns]"
   ]
  },
  {
   "cell_type": "code",
   "execution_count": 10,
   "metadata": {
    "scrolled": true
   },
   "outputs": [
    {
     "data": {
      "text/plain": [
       "(7032, 21)"
      ]
     },
     "execution_count": 10,
     "metadata": {},
     "output_type": "execute_result"
    }
   ],
   "source": [
    "data_without_empty.shape"
   ]
  },
  {
   "cell_type": "code",
   "execution_count": 11,
   "metadata": {
    "scrolled": true
   },
   "outputs": [],
   "source": [
    "#Also converting TotalCharges to float\n",
    "# data_without_empty['TotalCharges'] = data_without_empty['TotalCharges'].astype(float)\n",
    "data_without_empty['TotalCharges']= pd.to_numeric(data_without_empty['TotalCharges'])"
   ]
  },
  {
   "cell_type": "code",
   "execution_count": 12,
   "metadata": {
    "scrolled": false
   },
   "outputs": [],
   "source": [
    "# Converting SeniorCitizen into Categorical Value\n",
    "data_without_empty['SeniorCitizen'] = data_without_empty['SeniorCitizen'].replace({0:'No'})\n",
    "data_without_empty['SeniorCitizen'] = data_without_empty['SeniorCitizen'].replace({1:'Yes'})"
   ]
  },
  {
   "cell_type": "markdown",
   "metadata": {},
   "source": [
    "#### Observation\n",
    "* All empty values are removed.\n",
    "* Total Charges has been changed to float. \n",
    "* Senior Citizen has been changed to Object. 0 to 'No' and 1 to 'Yes'.\n",
    "* Thus, we have 7032 rows and 21 columns. "
   ]
  },
  {
   "cell_type": "markdown",
   "metadata": {},
   "source": [
    "### 5. Exploratpry Data Analysis"
   ]
  },
  {
   "cell_type": "code",
   "execution_count": 13,
   "metadata": {
    "scrolled": true
   },
   "outputs": [
    {
     "data": {
      "text/html": [
       "<div>\n",
       "<style scoped>\n",
       "    .dataframe tbody tr th:only-of-type {\n",
       "        vertical-align: middle;\n",
       "    }\n",
       "\n",
       "    .dataframe tbody tr th {\n",
       "        vertical-align: top;\n",
       "    }\n",
       "\n",
       "    .dataframe thead th {\n",
       "        text-align: right;\n",
       "    }\n",
       "</style>\n",
       "<table border=\"1\" class=\"dataframe\">\n",
       "  <thead>\n",
       "    <tr style=\"text-align: right;\">\n",
       "      <th></th>\n",
       "      <th>tenure</th>\n",
       "      <th>MonthlyCharges</th>\n",
       "      <th>TotalCharges</th>\n",
       "    </tr>\n",
       "  </thead>\n",
       "  <tbody>\n",
       "    <tr>\n",
       "      <th>count</th>\n",
       "      <td>7032.000000</td>\n",
       "      <td>7032.000000</td>\n",
       "      <td>7032.000000</td>\n",
       "    </tr>\n",
       "    <tr>\n",
       "      <th>mean</th>\n",
       "      <td>32.421786</td>\n",
       "      <td>64.798208</td>\n",
       "      <td>2283.300441</td>\n",
       "    </tr>\n",
       "    <tr>\n",
       "      <th>std</th>\n",
       "      <td>24.545260</td>\n",
       "      <td>30.085974</td>\n",
       "      <td>2266.771362</td>\n",
       "    </tr>\n",
       "    <tr>\n",
       "      <th>min</th>\n",
       "      <td>1.000000</td>\n",
       "      <td>18.250000</td>\n",
       "      <td>18.800000</td>\n",
       "    </tr>\n",
       "    <tr>\n",
       "      <th>10%</th>\n",
       "      <td>2.000000</td>\n",
       "      <td>20.050000</td>\n",
       "      <td>84.600000</td>\n",
       "    </tr>\n",
       "    <tr>\n",
       "      <th>25%</th>\n",
       "      <td>9.000000</td>\n",
       "      <td>35.587500</td>\n",
       "      <td>401.450000</td>\n",
       "    </tr>\n",
       "    <tr>\n",
       "      <th>50%</th>\n",
       "      <td>29.000000</td>\n",
       "      <td>70.350000</td>\n",
       "      <td>1397.475000</td>\n",
       "    </tr>\n",
       "    <tr>\n",
       "      <th>75%</th>\n",
       "      <td>55.000000</td>\n",
       "      <td>89.862500</td>\n",
       "      <td>3794.737500</td>\n",
       "    </tr>\n",
       "    <tr>\n",
       "      <th>90%</th>\n",
       "      <td>69.000000</td>\n",
       "      <td>102.645000</td>\n",
       "      <td>5976.640000</td>\n",
       "    </tr>\n",
       "    <tr>\n",
       "      <th>95%</th>\n",
       "      <td>72.000000</td>\n",
       "      <td>107.422500</td>\n",
       "      <td>6923.590000</td>\n",
       "    </tr>\n",
       "    <tr>\n",
       "      <th>99%</th>\n",
       "      <td>72.000000</td>\n",
       "      <td>114.734500</td>\n",
       "      <td>8039.883000</td>\n",
       "    </tr>\n",
       "    <tr>\n",
       "      <th>max</th>\n",
       "      <td>72.000000</td>\n",
       "      <td>118.750000</td>\n",
       "      <td>8684.800000</td>\n",
       "    </tr>\n",
       "  </tbody>\n",
       "</table>\n",
       "</div>"
      ],
      "text/plain": [
       "            tenure  MonthlyCharges  TotalCharges\n",
       "count  7032.000000     7032.000000   7032.000000\n",
       "mean     32.421786       64.798208   2283.300441\n",
       "std      24.545260       30.085974   2266.771362\n",
       "min       1.000000       18.250000     18.800000\n",
       "10%       2.000000       20.050000     84.600000\n",
       "25%       9.000000       35.587500    401.450000\n",
       "50%      29.000000       70.350000   1397.475000\n",
       "75%      55.000000       89.862500   3794.737500\n",
       "90%      69.000000      102.645000   5976.640000\n",
       "95%      72.000000      107.422500   6923.590000\n",
       "99%      72.000000      114.734500   8039.883000\n",
       "max      72.000000      118.750000   8684.800000"
      ]
     },
     "execution_count": 13,
     "metadata": {},
     "output_type": "execute_result"
    }
   ],
   "source": [
    "# Numerical Column Analysis\n",
    "data_without_empty.describe(percentiles = [.1,.25,.50,.75,.90,.95,.99])"
   ]
  },
  {
   "cell_type": "markdown",
   "metadata": {},
   "source": [
    "#### Observation -\n",
    "* Tenure - mid 80% range = 2-69 months. Mean = 32 months. Median = 29 months. Min-max = 1-72 months.\n",
    "* MonthlyCharges - mid 80% range = 20-102 dollars per month. Mean = 64 dollars. Median = 70 dollars. Min-max = 18-118 dollars\n",
    "* TotalCharges - mid 80% range = 84-5976 dollars. Mean = 2283 dollars. Median = 1397 dollars. Min-max = 18-8684 dollars"
   ]
  },
  {
   "cell_type": "code",
   "execution_count": 14,
   "metadata": {},
   "outputs": [
    {
     "data": {
      "text/html": [
       "<div>\n",
       "<style scoped>\n",
       "    .dataframe tbody tr th:only-of-type {\n",
       "        vertical-align: middle;\n",
       "    }\n",
       "\n",
       "    .dataframe tbody tr th {\n",
       "        vertical-align: top;\n",
       "    }\n",
       "\n",
       "    .dataframe thead th {\n",
       "        text-align: right;\n",
       "    }\n",
       "</style>\n",
       "<table border=\"1\" class=\"dataframe\">\n",
       "  <thead>\n",
       "    <tr style=\"text-align: right;\">\n",
       "      <th></th>\n",
       "      <th>customerID</th>\n",
       "      <th>gender</th>\n",
       "      <th>SeniorCitizen</th>\n",
       "      <th>Partner</th>\n",
       "      <th>Dependents</th>\n",
       "      <th>PhoneService</th>\n",
       "      <th>MultipleLines</th>\n",
       "      <th>InternetService</th>\n",
       "      <th>OnlineSecurity</th>\n",
       "      <th>OnlineBackup</th>\n",
       "      <th>DeviceProtection</th>\n",
       "      <th>TechSupport</th>\n",
       "      <th>StreamingTV</th>\n",
       "      <th>StreamingMovies</th>\n",
       "      <th>Contract</th>\n",
       "      <th>PaperlessBilling</th>\n",
       "      <th>PaymentMethod</th>\n",
       "      <th>Churn</th>\n",
       "    </tr>\n",
       "  </thead>\n",
       "  <tbody>\n",
       "    <tr>\n",
       "      <th>count</th>\n",
       "      <td>7032</td>\n",
       "      <td>7032</td>\n",
       "      <td>7032</td>\n",
       "      <td>7032</td>\n",
       "      <td>7032</td>\n",
       "      <td>7032</td>\n",
       "      <td>7032</td>\n",
       "      <td>7032</td>\n",
       "      <td>7032</td>\n",
       "      <td>7032</td>\n",
       "      <td>7032</td>\n",
       "      <td>7032</td>\n",
       "      <td>7032</td>\n",
       "      <td>7032</td>\n",
       "      <td>7032</td>\n",
       "      <td>7032</td>\n",
       "      <td>7032</td>\n",
       "      <td>7032</td>\n",
       "    </tr>\n",
       "    <tr>\n",
       "      <th>unique</th>\n",
       "      <td>7032</td>\n",
       "      <td>2</td>\n",
       "      <td>2</td>\n",
       "      <td>2</td>\n",
       "      <td>2</td>\n",
       "      <td>2</td>\n",
       "      <td>3</td>\n",
       "      <td>3</td>\n",
       "      <td>3</td>\n",
       "      <td>3</td>\n",
       "      <td>3</td>\n",
       "      <td>3</td>\n",
       "      <td>3</td>\n",
       "      <td>3</td>\n",
       "      <td>3</td>\n",
       "      <td>2</td>\n",
       "      <td>4</td>\n",
       "      <td>2</td>\n",
       "    </tr>\n",
       "    <tr>\n",
       "      <th>top</th>\n",
       "      <td>1732-FEKLD</td>\n",
       "      <td>Male</td>\n",
       "      <td>No</td>\n",
       "      <td>No</td>\n",
       "      <td>No</td>\n",
       "      <td>Yes</td>\n",
       "      <td>No</td>\n",
       "      <td>Fiber optic</td>\n",
       "      <td>No</td>\n",
       "      <td>No</td>\n",
       "      <td>No</td>\n",
       "      <td>No</td>\n",
       "      <td>No</td>\n",
       "      <td>No</td>\n",
       "      <td>Month-to-month</td>\n",
       "      <td>Yes</td>\n",
       "      <td>Electronic check</td>\n",
       "      <td>No</td>\n",
       "    </tr>\n",
       "    <tr>\n",
       "      <th>freq</th>\n",
       "      <td>1</td>\n",
       "      <td>3549</td>\n",
       "      <td>5890</td>\n",
       "      <td>3639</td>\n",
       "      <td>4933</td>\n",
       "      <td>6352</td>\n",
       "      <td>3385</td>\n",
       "      <td>3096</td>\n",
       "      <td>3497</td>\n",
       "      <td>3087</td>\n",
       "      <td>3094</td>\n",
       "      <td>3472</td>\n",
       "      <td>2809</td>\n",
       "      <td>2781</td>\n",
       "      <td>3875</td>\n",
       "      <td>4168</td>\n",
       "      <td>2365</td>\n",
       "      <td>5163</td>\n",
       "    </tr>\n",
       "  </tbody>\n",
       "</table>\n",
       "</div>"
      ],
      "text/plain": [
       "        customerID gender SeniorCitizen Partner Dependents PhoneService  \\\n",
       "count         7032   7032          7032    7032       7032         7032   \n",
       "unique        7032      2             2       2          2            2   \n",
       "top     1732-FEKLD   Male            No      No         No          Yes   \n",
       "freq             1   3549          5890    3639       4933         6352   \n",
       "\n",
       "       MultipleLines InternetService OnlineSecurity OnlineBackup  \\\n",
       "count           7032            7032           7032         7032   \n",
       "unique             3               3              3            3   \n",
       "top               No     Fiber optic             No           No   \n",
       "freq            3385            3096           3497         3087   \n",
       "\n",
       "       DeviceProtection TechSupport StreamingTV StreamingMovies  \\\n",
       "count              7032        7032        7032            7032   \n",
       "unique                3           3           3               3   \n",
       "top                  No          No          No              No   \n",
       "freq               3094        3472        2809            2781   \n",
       "\n",
       "              Contract PaperlessBilling     PaymentMethod Churn  \n",
       "count             7032             7032              7032  7032  \n",
       "unique               3                2                 4     2  \n",
       "top     Month-to-month              Yes  Electronic check    No  \n",
       "freq              3875             4168              2365  5163  "
      ]
     },
     "execution_count": 14,
     "metadata": {},
     "output_type": "execute_result"
    }
   ],
   "source": [
    "# Categorical Column Analysis\n",
    "data_without_empty.describe(include = 'O')"
   ]
  },
  {
   "cell_type": "markdown",
   "metadata": {},
   "source": [
    "### Observation - \n",
    "1. CustomerId - All unique values siginfying each row unique to a customer. \n",
    "2. All other features have 2 to 4 distinct values. \n",
    "3. Partner and Dependents are related to some family member dependence. \n",
    "4. PhoneService and MultipleLines arr related to phone service.  \n",
    "5. Internet Services signifies whether customer is using DSL, Fiber Optic or No interner service. \n",
    "    5.a) OnlineSecurity, OnlineBackup, DeviceProtection, TechSupport, StreamingTV and StreamingMovies are on top features of Internet service users. \n",
    "6. Contract, PaperlessBilling, PaymentMethod relates to Payment Plan. \n",
    "7. Churn tells whether the customer Churns or Not. "
   ]
  },
  {
   "cell_type": "markdown",
   "metadata": {},
   "source": [
    "### Univariate Analysis"
   ]
  },
  {
   "cell_type": "code",
   "execution_count": 15,
   "metadata": {
    "scrolled": true
   },
   "outputs": [],
   "source": [
    "#Converting Churn to numeric (0,1) instead of ('No','Yes')\n",
    "data_without_empty['Churn'] = data_without_empty['Churn'].replace({'No':0})\n",
    "data_without_empty['Churn'] = data_without_empty['Churn'].replace({'Yes':1})"
   ]
  },
  {
   "cell_type": "markdown",
   "metadata": {},
   "source": [
    "##### Gender and SeniorCitizen"
   ]
  },
  {
   "cell_type": "code",
   "execution_count": 16,
   "metadata": {},
   "outputs": [
    {
     "name": "stderr",
     "output_type": "stream",
     "text": [
      "C:\\Users\\AB94613\\AppData\\Local\\Continuum\\anaconda3\\lib\\site-packages\\scipy\\stats\\stats.py:1713: FutureWarning: Using a non-tuple sequence for multidimensional indexing is deprecated; use `arr[tuple(seq)]` instead of `arr[seq]`. In the future this will be interpreted as an array index, `arr[np.array(seq)]`, which will result either in an error or a different result.\n",
      "  return np.add.reduce(sorted[indexer] * weights, axis=axis) / sumval\n"
     ]
    },
    {
     "data": {
      "image/png": "[encoded data removed]",
      "text/plain": [
       "<Figure size 1440x432 with 4 Axes>"
      ]
     },
     "metadata": {
      "needs_background": "light"
     },
     "output_type": "display_data"
    }
   ],
   "source": [
    "gender_churn_percent_data = data_without_empty[['gender', 'Churn']].groupby(['gender'], as_index=False).mean().sort_values(by='Churn', ascending=False)\n",
    "seniorcitizen_churn_percent_data = data_without_empty[['SeniorCitizen', 'Churn']].groupby(['SeniorCitizen'], as_index=False).mean().sort_values(by='Churn', ascending=False)\n",
    "\n",
    "fig = plt.figure(figsize = (20,6))\n",
    "\n",
    "ax1 = fig.add_subplot(2,2,1)\n",
    "ax2 = fig.add_subplot(2,2,2)\n",
    "ax3 = fig.add_subplot(2,2,3)\n",
    "ax4 = fig.add_subplot(2,2,4)\n",
    "\n",
    "a1 = sns.barplot(x=\"gender\", y=\"MonthlyCharges\", data=data_without_empty, estimator=lambda x: len(x) / len(data_without_empty), ax = ax1)\n",
    "a2 = sns.barplot(x=\"gender\", y=\"Churn\", data=gender_churn_percent_data, ax = ax2)\n",
    "a3 = sns.barplot(x=\"SeniorCitizen\", y=\"MonthlyCharges\", data=data_without_empty, estimator=lambda x: len(x) / len(data_without_empty), ax = ax3)\n",
    "a4 = sns.barplot(x=\"SeniorCitizen\", y=\"Churn\", data=seniorcitizen_churn_percent_data, ax = ax4)\n",
    "\n",
    "a1.set_ylabel('Percent')\n",
    "a2.set_ylabel('Percent Churn')\n",
    "a3.set_ylabel('Percent')\n",
    "a4.set_ylabel('Percent Churn')\n",
    "\n",
    "plt.show()"
   ]
  },
  {
   "cell_type": "markdown",
   "metadata": {},
   "source": [
    "#### Observation -\n",
    "* Gender has no effect on Churn.\n",
    "* Senior Citizen have high churn rate."
   ]
  },
  {
   "cell_type": "markdown",
   "metadata": {},
   "source": [
    "##### Partner and Dependents"
   ]
  },
  {
   "cell_type": "code",
   "execution_count": 17,
   "metadata": {},
   "outputs": [
    {
     "name": "stderr",
     "output_type": "stream",
     "text": [
      "C:\\Users\\AB94613\\AppData\\Local\\Continuum\\anaconda3\\lib\\site-packages\\scipy\\stats\\stats.py:1713: FutureWarning: Using a non-tuple sequence for multidimensional indexing is deprecated; use `arr[tuple(seq)]` instead of `arr[seq]`. In the future this will be interpreted as an array index, `arr[np.array(seq)]`, which will result either in an error or a different result.\n",
      "  return np.add.reduce(sorted[indexer] * weights, axis=axis) / sumval\n"
     ]
    },
    {
     "data": {
      "image/png": "[encoded data removed]",
      "text/plain": [
       "<Figure size 1440x432 with 4 Axes>"
      ]
     },
     "metadata": {
      "needs_background": "light"
     },
     "output_type": "display_data"
    }
   ],
   "source": [
    "Partner_churn_percent_data = data_without_empty[['Partner', 'Churn']].groupby(['Partner'], as_index=False).mean().sort_values(by='Churn', ascending=False)\n",
    "Dependents_churn_percent_data = data_without_empty[['Dependents', 'Churn']].groupby(['Dependents'], as_index=False).mean().sort_values(by='Churn', ascending=False)\n",
    "\n",
    "fig = plt.figure(figsize = (20,6))\n",
    "\n",
    "ax1 = fig.add_subplot(2,2,1)\n",
    "ax2 = fig.add_subplot(2,2,2)\n",
    "ax3 = fig.add_subplot(2,2,3)\n",
    "ax4 = fig.add_subplot(2,2,4)\n",
    "\n",
    "a1 = sns.barplot(x=\"Partner\", y=\"MonthlyCharges\", data=data_without_empty, estimator=lambda x: len(x) / len(data_without_empty), ax = ax1)\n",
    "a2 = sns.barplot(x=\"Partner\", y=\"Churn\", data=Partner_churn_percent_data, ax = ax2)\n",
    "a3 = sns.barplot(x=\"Dependents\", y=\"MonthlyCharges\", data=data_without_empty, estimator=lambda x: len(x) / len(data_without_empty), ax = ax3)\n",
    "a4 = sns.barplot(x=\"Dependents\", y=\"Churn\", data=Dependents_churn_percent_data, ax = ax4)\n",
    "\n",
    "a1.set_ylabel('Percent')\n",
    "a2.set_ylabel('Percent Churn')\n",
    "a3.set_ylabel('Percent')\n",
    "a4.set_ylabel('Percent Churn')\n",
    "\n",
    "plt.show()"
   ]
  },
  {
   "cell_type": "markdown",
   "metadata": {},
   "source": [
    "#### Observation -\n",
    "People without partners or dependents have high churn rate. "
   ]
  },
  {
   "cell_type": "markdown",
   "metadata": {},
   "source": [
    "##### Phone Service and Multiple Lines -"
   ]
  },
  {
   "cell_type": "code",
   "execution_count": 18,
   "metadata": {},
   "outputs": [
    {
     "name": "stderr",
     "output_type": "stream",
     "text": [
      "C:\\Users\\AB94613\\AppData\\Local\\Continuum\\anaconda3\\lib\\site-packages\\scipy\\stats\\stats.py:1713: FutureWarning: Using a non-tuple sequence for multidimensional indexing is deprecated; use `arr[tuple(seq)]` instead of `arr[seq]`. In the future this will be interpreted as an array index, `arr[np.array(seq)]`, which will result either in an error or a different result.\n",
      "  return np.add.reduce(sorted[indexer] * weights, axis=axis) / sumval\n"
     ]
    },
    {
     "data": {
      "image/png": "[encoded data removed]",
      "text/plain": [
       "<Figure size 1440x432 with 4 Axes>"
      ]
     },
     "metadata": {
      "needs_background": "light"
     },
     "output_type": "display_data"
    }
   ],
   "source": [
    "PhoneService_churn_percent_data = data_without_empty[['PhoneService', 'Churn']].groupby(['PhoneService'], as_index=False).mean().sort_values(by='Churn', ascending=False)\n",
    "MultipleLines_churn_percent_data = data_without_empty[['MultipleLines', 'Churn']].groupby(['MultipleLines'], as_index=False).mean().sort_values(by='Churn', ascending=False)\n",
    "\n",
    "fig = plt.figure(figsize = (20,6))\n",
    "\n",
    "ax1 = fig.add_subplot(2,2,1)\n",
    "ax2 = fig.add_subplot(2,2,2)\n",
    "ax3 = fig.add_subplot(2,2,3)\n",
    "ax4 = fig.add_subplot(2,2,4)\n",
    "\n",
    "a1 = sns.barplot(x=\"PhoneService\", y=\"MonthlyCharges\", data=data_without_empty, estimator=lambda x: len(x) / len(data_without_empty), ax = ax1)\n",
    "a2 = sns.barplot(x=\"PhoneService\", y=\"Churn\", data=PhoneService_churn_percent_data, ax = ax2)\n",
    "a3 = sns.barplot(x=\"MultipleLines\", y=\"MonthlyCharges\", data=data_without_empty, estimator=lambda x: len(x) / len(data_without_empty), ax = ax3)\n",
    "a4 = sns.barplot(x=\"MultipleLines\", y=\"Churn\", data=MultipleLines_churn_percent_data, ax = ax4)\n",
    "\n",
    "a1.set_ylabel('Percent')\n",
    "a2.set_ylabel('Percent Churn')\n",
    "a3.set_ylabel('Percent')\n",
    "a4.set_ylabel('Percent Churn')\n",
    "\n",
    "plt.show()"
   ]
  },
  {
   "cell_type": "markdown",
   "metadata": {},
   "source": [
    "#### Observation -\n",
    "* Phone Service doesn't have impact on Churn. \n",
    "* People with Multiple Lines have slightly more chances to churn. "
   ]
  },
  {
   "cell_type": "markdown",
   "metadata": {},
   "source": [
    "#### Internet Service and Add On Services -"
   ]
  },
  {
   "cell_type": "code",
   "execution_count": 19,
   "metadata": {},
   "outputs": [
    {
     "name": "stderr",
     "output_type": "stream",
     "text": [
      "C:\\Users\\AB94613\\AppData\\Local\\Continuum\\anaconda3\\lib\\site-packages\\scipy\\stats\\stats.py:1713: FutureWarning: Using a non-tuple sequence for multidimensional indexing is deprecated; use `arr[tuple(seq)]` instead of `arr[seq]`. In the future this will be interpreted as an array index, `arr[np.array(seq)]`, which will result either in an error or a different result.\n",
      "  return np.add.reduce(sorted[indexer] * weights, axis=axis) / sumval\n"
     ]
    },
    {
     "data": {
      "image/png": "[encoded data removed]",
      "text/plain": [
       "<Figure size 1440x2880 with 14 Axes>"
      ]
     },
     "metadata": {
      "needs_background": "light"
     },
     "output_type": "display_data"
    }
   ],
   "source": [
    "InternetService_churn_percent_data = data_without_empty[['InternetService', 'Churn']].groupby(['InternetService'], as_index=False).mean().sort_values(by='Churn', ascending=False)\n",
    "OnlineSecurity_churn_percent_data = data_without_empty[['OnlineSecurity', 'Churn']].groupby(['OnlineSecurity'], as_index=False).mean().sort_values(by='Churn', ascending=False)\n",
    "OnlineBackup_churn_percent_data = data_without_empty[['OnlineBackup', 'Churn']].groupby(['OnlineBackup'], as_index=False).mean().sort_values(by='Churn', ascending=False)\n",
    "DeviceProtection_churn_percent_data = data_without_empty[['DeviceProtection', 'Churn']].groupby(['DeviceProtection'], as_index=False).mean().sort_values(by='Churn', ascending=False)\n",
    "TechSupport_churn_percent_data = data_without_empty[['TechSupport', 'Churn']].groupby(['TechSupport'], as_index=False).mean().sort_values(by='Churn', ascending=False)\n",
    "StreamingTV_churn_percent_data = data_without_empty[['StreamingTV', 'Churn']].groupby(['StreamingTV'], as_index=False).mean().sort_values(by='Churn', ascending=False)\n",
    "StreamingMovies_churn_percent_data = data_without_empty[['StreamingMovies', 'Churn']].groupby(['StreamingMovies'], as_index=False).mean().sort_values(by='Churn', ascending=False)\n",
    "\n",
    "fig = plt.figure(figsize = (20,40))\n",
    "\n",
    "ax1 = fig.add_subplot(7,2,1)\n",
    "ax2 = fig.add_subplot(7,2,2)\n",
    "ax3 = fig.add_subplot(7,2,3)\n",
    "ax4 = fig.add_subplot(7,2,4)\n",
    "ax5 = fig.add_subplot(7,2,5)\n",
    "ax6 = fig.add_subplot(7,2,6)\n",
    "ax7 = fig.add_subplot(7,2,7)\n",
    "ax8 = fig.add_subplot(7,2,8)\n",
    "ax9 = fig.add_subplot(7,2,9)\n",
    "ax10 = fig.add_subplot(7,2,10)\n",
    "ax11 = fig.add_subplot(7,2,11)\n",
    "ax12 = fig.add_subplot(7,2,12)\n",
    "ax13 = fig.add_subplot(7,2,13)\n",
    "ax14 = fig.add_subplot(7,2,14)\n",
    "\n",
    "a1 = sns.barplot(x=\"InternetService\", y=\"MonthlyCharges\", data=data_without_empty, estimator=lambda x: len(x) / len(data_without_empty), ax = ax1)\n",
    "a2 = sns.barplot(x=\"InternetService\", y=\"Churn\", data=InternetService_churn_percent_data, ax = ax2)\n",
    "\n",
    "a3 = sns.barplot(x=\"OnlineSecurity\", y=\"MonthlyCharges\", data=data_without_empty, estimator=lambda x: len(x) / len(data_without_empty), ax = ax3)\n",
    "a4 = sns.barplot(x=\"OnlineSecurity\", y=\"Churn\", data=OnlineSecurity_churn_percent_data, ax = ax4)\n",
    "\n",
    "a5 = sns.barplot(x=\"OnlineBackup\", y=\"MonthlyCharges\", data=data_without_empty, estimator=lambda x: len(x) / len(data_without_empty), ax = ax5)\n",
    "a6 = sns.barplot(x=\"OnlineBackup\", y=\"Churn\", data=OnlineBackup_churn_percent_data, ax = ax6)\n",
    "\n",
    "a7 = sns.barplot(x=\"DeviceProtection\", y=\"MonthlyCharges\", data=data_without_empty, estimator=lambda x: len(x) / len(data_without_empty), ax = ax7)\n",
    "a8 = sns.barplot(x=\"DeviceProtection\", y=\"Churn\", data=DeviceProtection_churn_percent_data, ax = ax8)\n",
    "\n",
    "a9 = sns.barplot(x=\"TechSupport\", y=\"MonthlyCharges\", data=data_without_empty, estimator=lambda x: len(x) / len(data_without_empty), ax = ax9)\n",
    "a10 = sns.barplot(x=\"TechSupport\", y=\"Churn\", data=TechSupport_churn_percent_data, ax = ax10)\n",
    "\n",
    "a11 = sns.barplot(x=\"StreamingTV\", y=\"MonthlyCharges\", data=data_without_empty, estimator=lambda x: len(x) / len(data_without_empty), ax = ax11)\n",
    "a12 = sns.barplot(x=\"StreamingTV\", y=\"Churn\", data=StreamingTV_churn_percent_data, ax = ax12)\n",
    "a13 = sns.barplot(x=\"StreamingMovies\", y=\"MonthlyCharges\", data=data_without_empty, estimator=lambda x: len(x) / len(data_without_empty), ax = ax13)\n",
    "a14 = sns.barplot(x=\"StreamingMovies\", y=\"Churn\", data=StreamingMovies_churn_percent_data, ax = ax14)\n",
    "\n",
    "a1.set_ylabel('Percent')\n",
    "a2.set_ylabel('Percent Churn')\n",
    "a3.set_ylabel('Percent')\n",
    "a4.set_ylabel('Percent Churn')\n",
    "a5.set_ylabel('Percent')\n",
    "a6.set_ylabel('Percent Churn')\n",
    "a7.set_ylabel('Percent')\n",
    "a8.set_ylabel('Percent Churn')\n",
    "a9.set_ylabel('Percent')\n",
    "a10.set_ylabel('Percent Churn')\n",
    "a11.set_ylabel('Percent')\n",
    "a12.set_ylabel('Percent Churn')\n",
    "a13.set_ylabel('Percent')\n",
    "a14.set_ylabel('Percent Churn')\n",
    "\n",
    "plt.show()"
   ]
  },
  {
   "cell_type": "markdown",
   "metadata": {},
   "source": [
    "#### Observation -\n",
    "* Fiber Optics Users have High Churn\n",
    "* Customers without Online Security have high churn.\n",
    "* Customers without Online BackUp have high churn.\n",
    "* Customers without Device Protection have high churn.\n",
    "* Customers without Tech Support have high churn.\n",
    "* No significant difference between churn pattern of people who Stream TV or Movies and those who doesn't. "
   ]
  },
  {
   "cell_type": "markdown",
   "metadata": {},
   "source": [
    "##### Contract, Paperless Billing and Payment Method"
   ]
  },
  {
   "cell_type": "code",
   "execution_count": 20,
   "metadata": {},
   "outputs": [
    {
     "name": "stderr",
     "output_type": "stream",
     "text": [
      "C:\\Users\\AB94613\\AppData\\Local\\Continuum\\anaconda3\\lib\\site-packages\\scipy\\stats\\stats.py:1713: FutureWarning: Using a non-tuple sequence for multidimensional indexing is deprecated; use `arr[tuple(seq)]` instead of `arr[seq]`. In the future this will be interpreted as an array index, `arr[np.array(seq)]`, which will result either in an error or a different result.\n",
      "  return np.add.reduce(sorted[indexer] * weights, axis=axis) / sumval\n"
     ]
    },
    {
     "data": {
      "image/png": "[encoded data removed]",
      "text/plain": [
       "<Figure size 1440x864 with 6 Axes>"
      ]
     },
     "metadata": {
      "needs_background": "light"
     },
     "output_type": "display_data"
    }
   ],
   "source": [
    "Contract_churn_percent_data = data_without_empty[['Contract', 'Churn']].groupby(['Contract'], as_index=False).mean().sort_values(by='Churn', ascending=False)\n",
    "PaperlessBilling_churn_percent_data = data_without_empty[['PaperlessBilling', 'Churn']].groupby(['PaperlessBilling'], as_index=False).mean().sort_values(by='Churn', ascending=False)\n",
    "PaymentMethod_churn_percent_data = data_without_empty[['PaymentMethod', 'Churn']].groupby(['PaymentMethod'], as_index=False).mean().sort_values(by='Churn', ascending=False)\n",
    "\n",
    "fig = plt.figure(figsize = (20,12))\n",
    "\n",
    "ax1 = fig.add_subplot(3,2,1)\n",
    "ax2 = fig.add_subplot(3,2,2)\n",
    "ax3 = fig.add_subplot(3,2,3)\n",
    "ax4 = fig.add_subplot(3,2,4)\n",
    "ax5 = fig.add_subplot(3,2,5)\n",
    "ax6 = fig.add_subplot(3,2,6)\n",
    "\n",
    "a1 = sns.barplot(x=\"Contract\", y=\"MonthlyCharges\", data=data_without_empty, estimator=lambda x: len(x) / len(data_without_empty), ax = ax1)\n",
    "a2 = sns.barplot(x=\"Contract\", y=\"Churn\", data=Contract_churn_percent_data, ax = ax2)\n",
    "a3 = sns.barplot(x=\"PaperlessBilling\", y=\"MonthlyCharges\", data=data_without_empty, estimator=lambda x: len(x) / len(data_without_empty), ax = ax3)\n",
    "a4 = sns.barplot(x=\"PaperlessBilling\", y=\"Churn\", data=PaperlessBilling_churn_percent_data, ax = ax4)\n",
    "a5 = sns.barplot(x=\"PaymentMethod\", y=\"MonthlyCharges\", data=data_without_empty, estimator=lambda x: len(x) / len(data_without_empty), ax = ax5)\n",
    "a6 = sns.barplot(x=\"PaymentMethod\", y=\"Churn\", data=PaymentMethod_churn_percent_data, ax = ax6)\n",
    "\n",
    "a1.set_ylabel('Percent')\n",
    "a2.set_ylabel('Percent Churn')\n",
    "a3.set_ylabel('Percent')\n",
    "a4.set_ylabel('Percent Churn')\n",
    "a5.set_ylabel('Percent')\n",
    "a6.set_ylabel('Percent Churn')\n",
    "\n",
    "plt.show()"
   ]
  },
  {
   "cell_type": "markdown",
   "metadata": {},
   "source": [
    "#### Observation -\n",
    "* Monthly Users have High Churn Rate. \n",
    "* Those who avail Paperless Billing have High Churn Rate. \n",
    "* People who pay by Electronic Check have high churn rate. "
   ]
  },
  {
   "cell_type": "markdown",
   "metadata": {},
   "source": [
    "### 6. Data Preprocessing"
   ]
  },
  {
   "cell_type": "code",
   "execution_count": 21,
   "metadata": {},
   "outputs": [],
   "source": [
    "# Based on EDA, changing 'No Phone Services' to 'No'\n",
    "# Also, In Payment Method, have just electronic and Others. \n",
    "\n",
    "data_without_empty['MultipleLines']= data_without_empty['MultipleLines'].replace({'No phone service':'No'})\n",
    "\n",
    "def Payment_Method_Transform_fun(payment_method):\n",
    "    if payment_method == 'Electronic check':\n",
    "        return 'Electronic check'\n",
    "    else:\n",
    "        return 'Others'\n",
    "\n",
    "data_without_empty['PaymentMethod'] = data_without_empty.apply(lambda x: Payment_Method_Transform_fun(x['PaymentMethod']), axis=1)"
   ]
  },
  {
   "cell_type": "code",
   "execution_count": 22,
   "metadata": {},
   "outputs": [],
   "source": [
    "## Changing \"no service values\" to \"no\" in below columns. \n",
    "change_col = ['OnlineSecurity', 'OnlineBackup', 'DeviceProtection', 'TechSupport','StreamingTV','StreamingMovies']\n",
    "\n",
    "for i in change_col:\n",
    "    data_without_empty[i]= data_without_empty[i].replace({'No internet service':'No'})"
   ]
  },
  {
   "cell_type": "markdown",
   "metadata": {},
   "source": [
    "#### Converting Categorical Features into Numeric"
   ]
  },
  {
   "cell_type": "code",
   "execution_count": 23,
   "metadata": {
    "scrolled": false
   },
   "outputs": [
    {
     "data": {
      "text/html": [
       "<div>\n",
       "<style scoped>\n",
       "    .dataframe tbody tr th:only-of-type {\n",
       "        vertical-align: middle;\n",
       "    }\n",
       "\n",
       "    .dataframe tbody tr th {\n",
       "        vertical-align: top;\n",
       "    }\n",
       "\n",
       "    .dataframe thead th {\n",
       "        text-align: right;\n",
       "    }\n",
       "</style>\n",
       "<table border=\"1\" class=\"dataframe\">\n",
       "  <thead>\n",
       "    <tr style=\"text-align: right;\">\n",
       "      <th></th>\n",
       "      <th>customerID</th>\n",
       "      <th>gender</th>\n",
       "      <th>SeniorCitizen</th>\n",
       "      <th>Partner</th>\n",
       "      <th>Dependents</th>\n",
       "      <th>tenure</th>\n",
       "      <th>PhoneService</th>\n",
       "      <th>MultipleLines</th>\n",
       "      <th>InternetService</th>\n",
       "      <th>OnlineSecurity</th>\n",
       "      <th>...</th>\n",
       "      <th>DeviceProtection</th>\n",
       "      <th>TechSupport</th>\n",
       "      <th>StreamingTV</th>\n",
       "      <th>StreamingMovies</th>\n",
       "      <th>Contract</th>\n",
       "      <th>PaperlessBilling</th>\n",
       "      <th>PaymentMethod</th>\n",
       "      <th>MonthlyCharges</th>\n",
       "      <th>TotalCharges</th>\n",
       "      <th>Churn</th>\n",
       "    </tr>\n",
       "  </thead>\n",
       "  <tbody>\n",
       "    <tr>\n",
       "      <th>0</th>\n",
       "      <td>7590-VHVEG</td>\n",
       "      <td>Female</td>\n",
       "      <td>No</td>\n",
       "      <td>Yes</td>\n",
       "      <td>No</td>\n",
       "      <td>1</td>\n",
       "      <td>No</td>\n",
       "      <td>No</td>\n",
       "      <td>DSL</td>\n",
       "      <td>No</td>\n",
       "      <td>...</td>\n",
       "      <td>No</td>\n",
       "      <td>No</td>\n",
       "      <td>No</td>\n",
       "      <td>No</td>\n",
       "      <td>Month-to-month</td>\n",
       "      <td>Yes</td>\n",
       "      <td>Electronic check</td>\n",
       "      <td>29.85</td>\n",
       "      <td>29.85</td>\n",
       "      <td>0</td>\n",
       "    </tr>\n",
       "    <tr>\n",
       "      <th>1</th>\n",
       "      <td>5575-GNVDE</td>\n",
       "      <td>Male</td>\n",
       "      <td>No</td>\n",
       "      <td>No</td>\n",
       "      <td>No</td>\n",
       "      <td>34</td>\n",
       "      <td>Yes</td>\n",
       "      <td>No</td>\n",
       "      <td>DSL</td>\n",
       "      <td>Yes</td>\n",
       "      <td>...</td>\n",
       "      <td>Yes</td>\n",
       "      <td>No</td>\n",
       "      <td>No</td>\n",
       "      <td>No</td>\n",
       "      <td>One year</td>\n",
       "      <td>No</td>\n",
       "      <td>Others</td>\n",
       "      <td>56.95</td>\n",
       "      <td>1889.50</td>\n",
       "      <td>0</td>\n",
       "    </tr>\n",
       "    <tr>\n",
       "      <th>2</th>\n",
       "      <td>3668-QPYBK</td>\n",
       "      <td>Male</td>\n",
       "      <td>No</td>\n",
       "      <td>No</td>\n",
       "      <td>No</td>\n",
       "      <td>2</td>\n",
       "      <td>Yes</td>\n",
       "      <td>No</td>\n",
       "      <td>DSL</td>\n",
       "      <td>Yes</td>\n",
       "      <td>...</td>\n",
       "      <td>No</td>\n",
       "      <td>No</td>\n",
       "      <td>No</td>\n",
       "      <td>No</td>\n",
       "      <td>Month-to-month</td>\n",
       "      <td>Yes</td>\n",
       "      <td>Others</td>\n",
       "      <td>53.85</td>\n",
       "      <td>108.15</td>\n",
       "      <td>1</td>\n",
       "    </tr>\n",
       "    <tr>\n",
       "      <th>3</th>\n",
       "      <td>7795-CFOCW</td>\n",
       "      <td>Male</td>\n",
       "      <td>No</td>\n",
       "      <td>No</td>\n",
       "      <td>No</td>\n",
       "      <td>45</td>\n",
       "      <td>No</td>\n",
       "      <td>No</td>\n",
       "      <td>DSL</td>\n",
       "      <td>Yes</td>\n",
       "      <td>...</td>\n",
       "      <td>Yes</td>\n",
       "      <td>Yes</td>\n",
       "      <td>No</td>\n",
       "      <td>No</td>\n",
       "      <td>One year</td>\n",
       "      <td>No</td>\n",
       "      <td>Others</td>\n",
       "      <td>42.30</td>\n",
       "      <td>1840.75</td>\n",
       "      <td>0</td>\n",
       "    </tr>\n",
       "    <tr>\n",
       "      <th>4</th>\n",
       "      <td>9237-HQITU</td>\n",
       "      <td>Female</td>\n",
       "      <td>No</td>\n",
       "      <td>No</td>\n",
       "      <td>No</td>\n",
       "      <td>2</td>\n",
       "      <td>Yes</td>\n",
       "      <td>No</td>\n",
       "      <td>Fiber optic</td>\n",
       "      <td>No</td>\n",
       "      <td>...</td>\n",
       "      <td>No</td>\n",
       "      <td>No</td>\n",
       "      <td>No</td>\n",
       "      <td>No</td>\n",
       "      <td>Month-to-month</td>\n",
       "      <td>Yes</td>\n",
       "      <td>Electronic check</td>\n",
       "      <td>70.70</td>\n",
       "      <td>151.65</td>\n",
       "      <td>1</td>\n",
       "    </tr>\n",
       "  </tbody>\n",
       "</table>\n",
       "<p>5 rows × 21 columns</p>\n",
       "</div>"
      ],
      "text/plain": [
       "   customerID  gender SeniorCitizen Partner Dependents  tenure PhoneService  \\\n",
       "0  7590-VHVEG  Female            No     Yes         No       1           No   \n",
       "1  5575-GNVDE    Male            No      No         No      34          Yes   \n",
       "2  3668-QPYBK    Male            No      No         No       2          Yes   \n",
       "3  7795-CFOCW    Male            No      No         No      45           No   \n",
       "4  9237-HQITU  Female            No      No         No       2          Yes   \n",
       "\n",
       "  MultipleLines InternetService OnlineSecurity  ...   DeviceProtection  \\\n",
       "0            No             DSL             No  ...                 No   \n",
       "1            No             DSL            Yes  ...                Yes   \n",
       "2            No             DSL            Yes  ...                 No   \n",
       "3            No             DSL            Yes  ...                Yes   \n",
       "4            No     Fiber optic             No  ...                 No   \n",
       "\n",
       "  TechSupport StreamingTV StreamingMovies        Contract PaperlessBilling  \\\n",
       "0          No          No              No  Month-to-month              Yes   \n",
       "1          No          No              No        One year               No   \n",
       "2          No          No              No  Month-to-month              Yes   \n",
       "3         Yes          No              No        One year               No   \n",
       "4          No          No              No  Month-to-month              Yes   \n",
       "\n",
       "      PaymentMethod MonthlyCharges  TotalCharges  Churn  \n",
       "0  Electronic check          29.85         29.85      0  \n",
       "1            Others          56.95       1889.50      0  \n",
       "2            Others          53.85        108.15      1  \n",
       "3            Others          42.30       1840.75      0  \n",
       "4  Electronic check          70.70        151.65      1  \n",
       "\n",
       "[5 rows x 21 columns]"
      ]
     },
     "execution_count": 23,
     "metadata": {},
     "output_type": "execute_result"
    }
   ],
   "source": [
    "data_without_empty.head()"
   ]
  },
  {
   "cell_type": "code",
   "execution_count": 24,
   "metadata": {},
   "outputs": [
    {
     "name": "stdout",
     "output_type": "stream",
     "text": [
      "[['7590-VHVEG' 'Female' 'No' ... 29.85 29.85 0]\n",
      " ['5575-GNVDE' 'Male' 'No' ... 56.95 1889.5 0]\n",
      " ['3668-QPYBK' 'Male' 'No' ... 53.85 108.15 1]\n",
      " ...\n",
      " ['4801-JZAZL' 'Female' 'No' ... 29.6 346.45 0]\n",
      " ['8361-LTMKD' 'Male' 'Yes' ... 74.4 306.6 1]\n",
      " ['3186-AJIEK' 'Male' 'No' ... 105.65 6844.5 0]]\n"
     ]
    },
    {
     "data": {
      "text/plain": [
       "array([['7590-VHVEG', 0, 0, ..., 29.85, 29.85, 0],\n",
       "       ['5575-GNVDE', 1, 0, ..., 56.95, 1889.5, 0],\n",
       "       ['3668-QPYBK', 1, 0, ..., 53.85, 108.15, 1],\n",
       "       ...,\n",
       "       ['4801-JZAZL', 0, 0, ..., 29.6, 346.45, 0],\n",
       "       ['8361-LTMKD', 1, 1, ..., 74.4, 306.6, 1],\n",
       "       ['3186-AJIEK', 1, 0, ..., 105.65, 6844.5, 0]], dtype=object)"
      ]
     },
     "execution_count": 24,
     "metadata": {},
     "output_type": "execute_result"
    }
   ],
   "source": [
    "# Converting string categorical variables to numeric categorical variables\n",
    "data_numeric = np.array(data_without_empty)\n",
    "print(data_numeric)\n",
    "\n",
    "d_gender = preprocessing.LabelEncoder()\n",
    "d_gender.fit(['Male', 'Female'])\n",
    "data_numeric[:,1] =d_gender.transform(data_numeric[:,1])\n",
    "\n",
    "d_seniority = preprocessing.LabelEncoder()\n",
    "d_seniority.fit(['Yes', 'No'])\n",
    "data_numeric[:,2] =d_seniority.transform(data_numeric[:,2])\n",
    "\n",
    "d_partner = preprocessing.LabelEncoder()\n",
    "d_partner.fit(['Yes', 'No'])\n",
    "data_numeric[:,3] =d_partner.transform(data_numeric[:,3])\n",
    "data_numeric[:,4]= d_partner.transform(data_numeric[:,4])\n",
    "data_numeric[:,6] = d_partner.transform(data_numeric[:,6])\n",
    "data_numeric[:,7] = d_partner.transform(data_numeric[:,7])\n",
    "data_numeric[:,9] = d_partner.transform(data_numeric[:,9])\n",
    "data_numeric[:,10] = d_partner.transform(data_numeric[:,10])\n",
    "data_numeric[:,11] = d_partner.transform(data_numeric[:,11])\n",
    "data_numeric[:,12] = d_partner.transform(data_numeric[:,12])\n",
    "data_numeric[:,13] = d_partner.transform(data_numeric[:,13])\n",
    "data_numeric[:,14] = d_partner.transform(data_numeric[:,14])\n",
    "data_numeric[:,16] = d_partner.transform(data_numeric[:,16])\n",
    "\n",
    "d_int_service = preprocessing.LabelEncoder()\n",
    "d_int_service.fit(['DSL','Fiber optic','No'])\n",
    "data_numeric[:,8] =d_int_service.transform(data_numeric[:,8])\n",
    "\n",
    "d_pmnt = preprocessing.LabelEncoder()\n",
    "d_pmnt.fit(['Electronic check','Others'])\n",
    "data_numeric[:,17] =d_pmnt.transform(data_numeric[:,17])\n",
    "\n",
    "d_contract = preprocessing.LabelEncoder()\n",
    "d_contract.fit(['Month-to-month','One year','Two year'])\n",
    "data_numeric[:,15] =d_contract.transform(data_numeric[:,15])\n",
    "\n",
    "data_numeric"
   ]
  },
  {
   "cell_type": "code",
   "execution_count": 25,
   "metadata": {
    "scrolled": true
   },
   "outputs": [],
   "source": [
    "# Drop CustomerId column\n",
    "data_numeric_input  = data_numeric[:,1:19]\n",
    "data_numeric_output = data_numeric[:,20]\n",
    "data_numeric_output=data_numeric_output.astype('int')"
   ]
  },
  {
   "cell_type": "code",
   "execution_count": 26,
   "metadata": {
    "scrolled": true
   },
   "outputs": [
    {
     "name": "stdout",
     "output_type": "stream",
     "text": [
      "(7032, 18)\n",
      "(7032,)\n"
     ]
    }
   ],
   "source": [
    "print(data_numeric_input.shape)\n",
    "print(data_numeric_output.shape)"
   ]
  },
  {
   "cell_type": "markdown",
   "metadata": {},
   "source": [
    "### Data Standardization"
   ]
  },
  {
   "cell_type": "code",
   "execution_count": 27,
   "metadata": {},
   "outputs": [
    {
     "name": "stderr",
     "output_type": "stream",
     "text": [
      "C:\\Users\\AB94613\\AppData\\Local\\Continuum\\anaconda3\\lib\\site-packages\\sklearn\\utils\\validation.py:475: DataConversionWarning: Data with input dtype object was converted to float64 by StandardScaler.\n",
      "  warnings.warn(msg, DataConversionWarning)\n",
      "C:\\Users\\AB94613\\AppData\\Local\\Continuum\\anaconda3\\lib\\site-packages\\sklearn\\utils\\validation.py:475: DataConversionWarning: Data with input dtype object was converted to float64 by StandardScaler.\n",
      "  warnings.warn(msg, DataConversionWarning)\n"
     ]
    }
   ],
   "source": [
    "stan_X = StandardScaler().fit_transform(data_numeric_input)"
   ]
  },
  {
   "cell_type": "code",
   "execution_count": 28,
   "metadata": {
    "scrolled": true
   },
   "outputs": [
    {
     "data": {
      "text/plain": [
       "(7032, 18)"
      ]
     },
     "execution_count": 28,
     "metadata": {},
     "output_type": "execute_result"
    }
   ],
   "source": [
    "stan_X.shape"
   ]
  },
  {
   "cell_type": "markdown",
   "metadata": {},
   "source": [
    "### Train Test Split"
   ]
  },
  {
   "cell_type": "code",
   "execution_count": 29,
   "metadata": {},
   "outputs": [],
   "source": [
    "X_1, X_test, Y_1, Y_test = model_selection.train_test_split(stan_X, data_numeric_output, test_size=0.3, random_state=0)"
   ]
  },
  {
   "cell_type": "code",
   "execution_count": 30,
   "metadata": {
    "scrolled": false
   },
   "outputs": [
    {
     "name": "stdout",
     "output_type": "stream",
     "text": [
      "(4922, 18)\n",
      "(2110, 18)\n",
      "(4922,)\n",
      "(2110,)\n"
     ]
    }
   ],
   "source": [
    "print(X_1.shape)\n",
    "print(X_test.shape)\n",
    "print(Y_1.shape)\n",
    "print(Y_test.shape)"
   ]
  },
  {
   "cell_type": "markdown",
   "metadata": {},
   "source": [
    "### 7. Machine Learning Models"
   ]
  },
  {
   "cell_type": "code",
   "execution_count": 31,
   "metadata": {},
   "outputs": [],
   "source": [
    "# Initialize object\n",
    "knn = KNeighborsClassifier(n_neighbors=9, weights='distance')\n",
    "gausian = GaussianNB()\n",
    "SVM_object = svm.SVC() \n",
    "dt_object = tree.DecisionTreeClassifier(criterion=\"entropy\", max_depth = 6)\n",
    "gb_object = ensemble.GradientBoostingClassifier()\n",
    "lr_object = linear_model.LogisticRegression()"
   ]
  },
  {
   "cell_type": "code",
   "execution_count": 32,
   "metadata": {},
   "outputs": [
    {
     "name": "stdout",
     "output_type": "stream",
     "text": [
      "Knn\t Precision : 0.543897\t Recall : 0.457658 \t F1 Score : 0.497065 \t auc : 0.660340 \n",
      "NB\t Precision : 0.538670\t Recall : 0.715315 \t F1 Score : 0.614551 \t auc : 0.748333 \n",
      "SVM\t Precision : 0.655612\t Recall : 0.463063 \t F1 Score : 0.542767 \t auc : 0.688123 \n",
      "DT\t Precision : 0.642857\t Recall : 0.454054 \t F1 Score : 0.532207 \t auc : 0.682011 \n",
      "GB\t Precision : 0.649770\t Recall : 0.508108 \t F1 Score : 0.570273 \t auc : 0.705179 \n",
      "LR\t Precision : 0.635965\t Recall : 0.522523 \t F1 Score : 0.573689 \t auc : 0.707885 \n",
      "Wall time: 1.28 s\n"
     ]
    }
   ],
   "source": [
    "%%time\n",
    "\n",
    "object_list = {knn : 'Knn',gausian : 'NB', SVM_object : 'SVM',dt_object : 'DT',gb_object : 'GB',lr_object : 'LR'}\n",
    "\n",
    "for obj in object_list:\n",
    "    obj.fit(X_1, Y_1)\n",
    "\n",
    "    # predict the response on the crossvalidation train\n",
    "    pred = obj.predict(X_test)\n",
    "\n",
    "    prefor = precision_score(Y_test, pred)\n",
    "    recfor = recall_score(Y_test, pred)\n",
    "\n",
    "    # evaluate CV accuracy\n",
    "    f1_score_val = f1_score(Y_test, pred) \n",
    "\n",
    "    fpr, tpr, thresholds = metrics.roc_curve(Y_test, pred)\n",
    "    auc = metrics.auc(fpr, tpr)\n",
    "    \n",
    "    print('%s\\t Precision : %f\\t Recall : %f \\t F1 Score : %f \\t auc : %f ' % (object_list[obj], prefor, recfor, f1_score_val, auc))"
   ]
  },
  {
   "cell_type": "code",
   "execution_count": 33,
   "metadata": {},
   "outputs": [],
   "source": [
    "# Correlation among the predicted value of these models \n",
    "pred_knn = pd.Series(knn.predict(X_test), name=\"knn\")\n",
    "pred_gausian = pd.Series(gausian.predict(X_test), name=\"gausian\")\n",
    "pred_SVM_object = pd.Series(SVM_object.predict(X_test), name=\"SVM_object\")\n",
    "pred_dt_object = pd.Series(dt_object.predict(X_test), name=\"dt_object\")\n",
    "pred_gb_object = pd.Series(gb_object.predict(X_test), name=\"gb_object\")\n",
    "pred_lr_object = pd.Series(lr_object.predict(X_test), name=\"lr_object\")\n",
    "\n",
    "concat_pred_values = pd.concat([pred_knn,pred_gausian,pred_SVM_object,pred_dt_object, pred_gb_object, pred_lr_object],axis=1)"
   ]
  },
  {
   "cell_type": "code",
   "execution_count": 34,
   "metadata": {},
   "outputs": [
    {
     "data": {
      "image/png": "[encoded data removed]",
      "text/plain": [
       "<Figure size 432x288 with 2 Axes>"
      ]
     },
     "metadata": {
      "needs_background": "light"
     },
     "output_type": "display_data"
    }
   ],
   "source": [
    "g= sns.heatmap(concat_pred_values.corr(),annot=True)"
   ]
  },
  {
   "cell_type": "markdown",
   "metadata": {},
   "source": [
    "#### Since these are not highly correlated therefore, looking at ensemble model. "
   ]
  },
  {
   "cell_type": "code",
   "execution_count": 35,
   "metadata": {},
   "outputs": [
    {
     "data": {
      "text/plain": [
       "(2110, 6)"
      ]
     },
     "execution_count": 35,
     "metadata": {},
     "output_type": "execute_result"
    }
   ],
   "source": [
    "concat_pred_values.shape"
   ]
  },
  {
   "cell_type": "code",
   "execution_count": 36,
   "metadata": {},
   "outputs": [
    {
     "data": {
      "text/plain": [
       "Index(['knn', 'gausian', 'SVM_object', 'dt_object', 'gb_object', 'lr_object'], dtype='object')"
      ]
     },
     "execution_count": 36,
     "metadata": {},
     "output_type": "execute_result"
    }
   ],
   "source": [
    "concat_pred_values.columns"
   ]
  },
  {
   "cell_type": "markdown",
   "metadata": {},
   "source": [
    "#### Ensemble Model - Majority Voting"
   ]
  },
  {
   "cell_type": "code",
   "execution_count": 37,
   "metadata": {},
   "outputs": [],
   "source": [
    "# INitializing Majority Vote on 3 models\n",
    "votingC = VotingClassifier(estimators=[('gausian', gausian),\n",
    "                                       ('gb_object',gb_object), ('lr_object',lr_object)], \n",
    "                           voting='soft', n_jobs=4)"
   ]
  },
  {
   "cell_type": "code",
   "execution_count": 38,
   "metadata": {},
   "outputs": [
    {
     "name": "stdout",
     "output_type": "stream",
     "text": [
      "LR\t Precision : 0.586555\t Recall : 0.628829 \t F1 Score : 0.606957 \t auc : 0.735315 \n",
      "Wall time: 8.42 s\n"
     ]
    },
    {
     "name": "stderr",
     "output_type": "stream",
     "text": [
      "C:\\Users\\AB94613\\AppData\\Local\\Continuum\\anaconda3\\lib\\site-packages\\sklearn\\preprocessing\\label.py:151: DeprecationWarning: The truth value of an empty array is ambiguous. Returning False, but in future this will result in an error. Use `array.size > 0` to check that an array is not empty.\n",
      "  if diff:\n"
     ]
    }
   ],
   "source": [
    "%%time\n",
    "\n",
    "votingC.fit(X_1, Y_1)\n",
    "\n",
    "# predict the response on the crossvalidation train\n",
    "pred = votingC.predict(X_test)\n",
    "\n",
    "prefor = precision_score(Y_test, pred)\n",
    "recfor = recall_score(Y_test, pred)\n",
    "\n",
    "# evaluate CV accuracy\n",
    "f1_score_val = f1_score(Y_test, pred) \n",
    "\n",
    "fpr, tpr, thresholds = metrics.roc_curve(Y_test, pred)\n",
    "auc = metrics.auc(fpr, tpr)\n",
    "\n",
    "print('%s\\t Precision : %f\\t Recall : %f \\t F1 Score : %f \\t auc : %f ' % (object_list[obj], prefor, recfor, f1_score_val, auc))"
   ]
  },
  {
   "cell_type": "markdown",
   "metadata": {},
   "source": [
    "#### Ensemble Model - Miscellaneous (predict churn, If any Model says churn)"
   ]
  },
  {
   "cell_type": "code",
   "execution_count": 39,
   "metadata": {},
   "outputs": [
    {
     "name": "stdout",
     "output_type": "stream",
     "text": [
      "Ensemble\t Precision : 0.513806\t Recall : 0.771171 \t F1 Score : 0.616715 \t auc : 0.755361 \n"
     ]
    }
   ],
   "source": [
    "def Combined_Pred_fun(knn, gausian, SVM_object, dt_object, gb_object, lr_object):\n",
    "    if knn == 1 or gausian == 1 or SVM_object == 1 or dt_object == 1 or gb_object == 1 or lr_object == 1:\n",
    "        return 1\n",
    "    else:\n",
    "        return 0\n",
    "\n",
    "concat_pred_values['Combined_Pred'] = concat_pred_values.apply(lambda x: Combined_Pred_fun(x['knn'], x['gausian'], x['SVM_object'], x['dt_object'], x['gb_object'], x['lr_object']), axis=1)\n",
    "\n",
    "prefor = precision_score(Y_test, concat_pred_values['Combined_Pred'])\n",
    "recfor = recall_score(Y_test, concat_pred_values['Combined_Pred'])\n",
    "\n",
    "# evaluate CV accuracy\n",
    "f1_score_val = f1_score(Y_test, concat_pred_values['Combined_Pred']) \n",
    "\n",
    "fpr, tpr, thresholds = metrics.roc_curve(Y_test, concat_pred_values['Combined_Pred'])\n",
    "auc = metrics.auc(fpr, tpr)\n",
    "\n",
    "print('Ensemble\\t Precision : %f\\t Recall : %f \\t F1 Score : %f \\t auc : %f ' % (prefor, recfor, f1_score_val, auc))"
   ]
  },
  {
   "cell_type": "markdown",
   "metadata": {},
   "source": [
    "# 8. Conclusion -\n",
    "____"
   ]
  },
  {
   "cell_type": "markdown",
   "metadata": {},
   "source": [
    "#### If F1 Score is the evaluation measure - \n",
    "    - Naive Bayes yields the best results.\n",
    "    - Result Interpretation - Among 100 users, if 10 churn than our model gives a list of 14 customers among which 7 churn. \n",
    "\n",
    "#### If Recall is the evaluation measure -\n",
    "    - Ensemble - Miscellaneous yields the best results.\n",
    "    - Result Interpretation - Among 100 users, if 10 churn than our model gives a list of 16 customers among which 8 churn."
   ]
  }
 ],
 "metadata": {
  "kernelspec": {
   "display_name": "Python 3",
   "language": "python",
   "name": "python3"
  },
  "language_info": {
   "codemirror_mode": {
    "name": "ipython",
    "version": 3
   },
   "file_extension": ".py",
   "mimetype": "text/x-python",
   "name": "python",
   "nbconvert_exporter": "python",
   "pygments_lexer": "ipython3",
   "version": "3.7.0"
  }
 },
 "nbformat": 4,
 "nbformat_minor": 2
}
